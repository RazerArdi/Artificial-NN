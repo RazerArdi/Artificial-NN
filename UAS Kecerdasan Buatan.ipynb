{
 "cells": [
  {
   "cell_type": "markdown",
   "id": "f3b35cae",
   "metadata": {},
   "source": [
    "# UAS\n",
    "# Kecerdasan Buatan 2023/2024"
   ]
  },
  {
   "cell_type": "markdown",
   "id": "4bf1fb8c",
   "metadata": {},
   "source": [
    "Soal:\n",
    "Diberikan sebuah dataset berupa gambar angka 1-10. Buatlah sebuah model yang dapat meng-klasifikasikan gambar tersebut menggunakan metode ANN (Artificial Neural Network). Di bawah ini sudah disediakan step-by-stepnya. Silahkan Dicermati\n",
    "\n",
    "Beberapa library yang harus diinstal dan disiapkan\n",
    "1. Sklearn (pip install scikit-learn)\n",
    "2. Pandas\n",
    "3. Numpy\n",
    "4. Matplotlib\n",
    "5. Keras (pip install keras)"
   ]
  },
  {
   "cell_type": "markdown",
   "id": "f794b707",
   "metadata": {},
   "source": [
    "===================================================================================================="
   ]
  },
  {
   "cell_type": "markdown",
   "id": "b193d9c8",
   "metadata": {},
   "source": [
    "### Import beberapa library yang akan kita gunakan"
   ]
  },
  {
   "cell_type": "code",
   "execution_count": 12,
   "id": "3d0d1b2b-e187-4f17-98c2-23a230209c73",
   "metadata": {
    "tags": []
   },
   "outputs": [
    {
     "name": "stdout",
     "output_type": "stream",
     "text": [
      "Requirement already satisfied: lion-pytorch in c:\\users\\bayua\\miniconda3\\lib\\site-packages (0.2.2)\n",
      "Requirement already satisfied: torch>=1.6 in c:\\users\\bayua\\miniconda3\\lib\\site-packages (from lion-pytorch) (2.0.1)\n",
      "Requirement already satisfied: filelock in c:\\users\\bayua\\miniconda3\\lib\\site-packages (from torch>=1.6->lion-pytorch) (3.9.0)\n",
      "Requirement already satisfied: typing-extensions in c:\\users\\bayua\\miniconda3\\lib\\site-packages (from torch>=1.6->lion-pytorch) (4.7.1)\n",
      "Requirement already satisfied: sympy in c:\\users\\bayua\\miniconda3\\lib\\site-packages (from torch>=1.6->lion-pytorch) (1.11.1)\n",
      "Requirement already satisfied: networkx in c:\\users\\bayua\\miniconda3\\lib\\site-packages (from torch>=1.6->lion-pytorch) (2.8.4)\n",
      "Requirement already satisfied: jinja2 in c:\\users\\bayua\\miniconda3\\lib\\site-packages (from torch>=1.6->lion-pytorch) (3.1.2)\n",
      "Requirement already satisfied: MarkupSafe>=2.0 in c:\\users\\bayua\\miniconda3\\lib\\site-packages (from jinja2->torch>=1.6->lion-pytorch) (2.1.2)\n",
      "Requirement already satisfied: mpmath>=0.19 in c:\\users\\bayua\\miniconda3\\lib\\site-packages (from sympy->torch>=1.6->lion-pytorch) (1.2.1)\n",
      "Note: you may need to restart the kernel to use updated packages.\n"
     ]
    }
   ],
   "source": [
    "pip install lion-pytorch"
   ]
  },
  {
   "cell_type": "code",
   "execution_count": 16,
   "id": "3b1d4a49-080a-4601-9eb4-2472319a554f",
   "metadata": {
    "tags": []
   },
   "outputs": [
    {
     "name": "stdout",
     "output_type": "stream",
     "text": [
      "Requirement already satisfied: pydot in c:\\users\\bayua\\miniconda3\\lib\\site-packages (2.0.0)\n",
      "Requirement already satisfied: graphviz in c:\\users\\bayua\\miniconda3\\lib\\site-packages (0.20.3)\n",
      "Collecting pydotplus\n",
      "  Downloading pydotplus-2.0.2.tar.gz (278 kB)\n",
      "     ---------------------------------------- 0.0/278.7 kB ? eta -:--:--\n",
      "     ----- ------------------------------- 41.0/278.7 kB 960.0 kB/s eta 0:00:01\n",
      "     -------------------------- ----------- 194.6/278.7 kB 2.3 MB/s eta 0:00:01\n",
      "     -------------------------------------- 278.7/278.7 kB 2.4 MB/s eta 0:00:00\n",
      "  Preparing metadata (setup.py): started\n",
      "  Preparing metadata (setup.py): finished with status 'done'\n",
      "Requirement already satisfied: pyparsing>=3 in c:\\users\\bayua\\miniconda3\\lib\\site-packages (from pydot) (3.0.9)\n",
      "Building wheels for collected packages: pydotplus\n",
      "  Building wheel for pydotplus (setup.py): started\n",
      "  Building wheel for pydotplus (setup.py): finished with status 'done'\n",
      "  Created wheel for pydotplus: filename=pydotplus-2.0.2-py3-none-any.whl size=24578 sha256=b2574ff146fee0dc907d2ea7def8c361843cfa99fcd45736f0105e3b28d157c9\n",
      "  Stored in directory: c:\\users\\bayua\\appdata\\local\\pip\\cache\\wheels\\69\\b2\\67\\08f0eef649af92df772c09f451558298e07fab1bc7cdf33db0\n",
      "Successfully built pydotplus\n",
      "Installing collected packages: pydotplus\n",
      "Successfully installed pydotplus-2.0.2\n",
      "Note: you may need to restart the kernel to use updated packages.\n"
     ]
    }
   ],
   "source": [
    "pip install pydot graphviz pydotplus"
   ]
  },
  {
   "cell_type": "code",
   "execution_count": 4,
   "id": "4a44fea0",
   "metadata": {
    "tags": []
   },
   "outputs": [],
   "source": [
    "#Import library-library yang akan digunakan\n",
    "\n",
    "import keras\n",
    "from keras.layers import Dense, Dropout, Flatten\n",
    "from keras.callbacks import EarlyStopping\n",
    "from tensorflow.keras.utils import plot_model\n",
    "import tensorflow as tf\n",
    "from tensorflow.keras.layers import Dense\n",
    "import matplotlib.pyplot as plt\n",
    "import numpy as np\n",
    "import pandas as pd\n",
    "import sklearn\n",
    "from keras.datasets import mnist\n",
    "from keras.utils import to_categorical\n",
    "from keras.models import Sequential\n",
    "from keras.optimizers import RMSprop\n",
    "from keras.callbacks import TensorBoard\n",
    "from sklearn.metrics import confusion_matrix\n",
    "import seaborn as sns"
   ]
  },
  {
   "cell_type": "markdown",
   "id": "f55f69c3",
   "metadata": {},
   "source": [
    "### Load Dataset"
   ]
  },
  {
   "cell_type": "markdown",
   "id": "16c5f4fd",
   "metadata": {},
   "source": [
    "Dataset yang kita gunakan adalah dataset MNIST http://yann.lecun.com/exdb/mnist/"
   ]
  },
  {
   "cell_type": "code",
   "execution_count": 5,
   "id": "cf38aea3",
   "metadata": {
    "tags": []
   },
   "outputs": [
    {
     "data": {
      "text/plain": [
       "tuple"
      ]
     },
     "execution_count": 5,
     "metadata": {},
     "output_type": "execute_result"
    }
   ],
   "source": [
    "#Load Dataset\n",
    "#Bisa dengan cara di download dulu (Dowload sendiri di internet) kemudian di load atau import dari keras\n",
    "\n",
    "data = mnist.load_data()\n",
    "type(data)\n",
    "\n",
    "# filenya gk bisa didownload manual pak :)\""
   ]
  },
  {
   "cell_type": "markdown",
   "id": "bd3614f1",
   "metadata": {},
   "source": [
    "### Preview dataset yang sudah kalian download "
   ]
  },
  {
   "cell_type": "code",
   "execution_count": 6,
   "id": "99a622e0",
   "metadata": {
    "tags": []
   },
   "outputs": [
    {
     "name": "stdout",
     "output_type": "stream",
     "text": [
      "X_train original shape: (60000, 28, 28)\n",
      "y_train original shape: (60000,)\n"
     ]
    },
    {
     "data": {
      "image/png": "[encoded data removed]",
      "text/plain": [
       "<Figure size 1000x800 with 12 Axes>"
      ]
     },
     "metadata": {},
     "output_type": "display_data"
    },
    {
     "data": {
      "text/plain": [
       "'\\nX_train adalah array yang memiliki 60,000 gambar, di mana setiap gambar berukuran 28x28 piksel\\n\\ny_train adalah array yang memiliki 60,000 label, di mana setiap label berhubungan dengan \\nsalah satu dari 60,000 gambar di X_train. Setiap label adalah angka yang menunjukkan digit \\nyang sesuai dengan gambar (misalnya, 0-9).\\n\\n'"
      ]
     },
     "execution_count": 6,
     "metadata": {},
     "output_type": "execute_result"
    }
   ],
   "source": [
    "#code untuk preview dataset MNIST. Tampilkan min 12 gambar\n",
    "# Jangan lupa Mengimpor library Matplotlib untuk visualisasi data\n",
    "\n",
    "# 'data' sudah didefinisikan sebelumnya dan load dataset MNIST\n",
    "(X_train, y_train), (X_test, y_test) = data  # Memisahkan dataset MNIST menjadi data Training dan Test\n",
    "\n",
    "# Mencetak bentuk asli dari dataset pelatihan\n",
    "print(f\"X_train original shape: {X_train.shape}\")  \n",
    "print(f\"y_train original shape: {y_train.shape}\")  \n",
    "\n",
    "# Definisi fungsi untuk menampilkan gambar\n",
    "def display_images(images, labels, num_images=12):\n",
    "    plt.figure(figsize=(10, 8))  # Membuat figure baru dengan ukuran 10x8 inci\n",
    "    for i in range(num_images):  # Mengiterasi untuk menampilkan sejumlah gambar\n",
    "        plt.subplot(3, 4, i + 1)  # Membuat subplot dalam grid 3 baris x 4 kolom\n",
    "        plt.imshow(images[i], cmap='gray')  # Menampilkan gambar pada indeks ke-i dalam skala abu-abu\n",
    "        plt.title(f\"Label: {labels[i]}\")  # Memberikan judul pada setiap subplot sesuai dengan label gambar\n",
    "        plt.axis('off')  # Menonaktifkan sumbu horizonatal/vertikal\n",
    "    plt.tight_layout()  # settingUp Tata letak agar subplot(grafik yang berada dalam satu gambar) tidak saling tumpang tindih\n",
    "    plt.show()  # Menampilkan figure yang telah dibuat\n",
    "\n",
    "# Menampilkan 12 gambar pertama dari dataset pelatihan\n",
    "display_images(X_train, y_train, num_images=12)  # Memanggil fungsi tuk menampilkan gambar\n",
    "\n",
    "\n",
    "'''\n",
    "X_train adalah array yang memiliki 60,000 gambar, di mana setiap gambar berukuran 28x28 piksel\n",
    "\n",
    "y_train adalah array yang memiliki 60,000 label, di mana setiap label berhubungan dengan \n",
    "salah satu dari 60,000 gambar di X_train. Setiap label adalah angka yang menunjukkan digit \n",
    "yang sesuai dengan gambar (misalnya, 0-9).\n",
    "\n",
    "'''\n"
   ]
  },
  {
   "cell_type": "markdown",
   "id": "d518503c",
   "metadata": {},
   "source": [
    "### Data Preprocessing"
   ]
  },
  {
   "cell_type": "markdown",
   "id": "f0ebef0e",
   "metadata": {},
   "source": [
    "Dataset yang berbentuk gambar juga perlu dilakukan preprocessing. Ada banyak yang bisa dilakukan, salah satu contoh yaitu adalah normalisasi nilai pada setiap pixel. Namun step ini bersifat optional. Jika dirasa tidak perlu preprocessing bisa langsung skip ke step selanjutnya \n",
    "\n",
    "#### Tips : Value class pada dataset mnist bisa diubah bentuknya menjadi one hot encoding agar memudahkan neural network bekerja (https://www.kaggle.com/code/dansbecker/using-categorical-data-with-one-hot-encoding) (https://machinelearningmastery.com/one-hot-encoding-for-categorical-data/)"
   ]
  },
  {
   "cell_type": "code",
   "execution_count": 7,
   "id": "958e7866",
   "metadata": {
    "tags": []
   },
   "outputs": [
    {
     "name": "stdout",
     "output_type": "stream",
     "text": [
      "X_train bentuk setelah preprocessing: (60000, 28, 28, 1)\n",
      "y_train bentuk setelah preprocessing: (60000, 10)\n"
     ]
    }
   ],
   "source": [
    "#Code untuk preprocessing\n",
    "'''\n",
    "Diperlukan krn kita perlu memastikan model dapat Learning lebih cepat serta menghindari masalah numerik.\n",
    "\n",
    "'''\n",
    "\n",
    "X_train = X_train.astype('float32') / 255  # Mengubah tipe data menjadi float32 dan membagi dengan 255 untuk normalisasi\n",
    "X_test = X_test.astype('float32') / 255  # Mengubah tipe data menjadi float32 dan membagi dengan 255 untuk normalisasi\n",
    "\n",
    "# Reshape data to fit model (Opsional)\n",
    "X_train = X_train.reshape((X_train.shape[0], 28, 28, 1))  # Mengubah bentuk data agar sesuai dengan input model\n",
    "X_test = X_test.reshape((X_test.shape[0], 28, 28, 1))  # Mengubah bentuk data agar sesuai dengan input model\n",
    "\n",
    "# one-hot encoding (Labels)\n",
    "y_train = to_categorical(y_train, 10)  # Mengubah label menjadi one-hot encoding (60000, 10)\n",
    "y_test = to_categorical(y_test, 10) \n",
    "\n",
    "print(f\"X_train bentuk setelah preprocessing: {X_train.shape}\")\n",
    "print(f\"y_train bentuk setelah preprocessing: {y_train.shape}\")  "
   ]
  },
  {
   "cell_type": "markdown",
   "id": "a4f19537",
   "metadata": {},
   "source": [
    "### NB: Pada dataset ini kita tidak perlu melakukan splitting data karena dari datasetnya sudah dipisah training dan testing"
   ]
  },
  {
   "cell_type": "markdown",
   "id": "dbae35bd",
   "metadata": {},
   "source": [
    "===================================================================================================="
   ]
  },
  {
   "cell_type": "markdown",
   "id": "b76ead52",
   "metadata": {},
   "source": [
    "### Proses Learning Menggunakan Artificial Neural Network"
   ]
  },
  {
   "cell_type": "markdown",
   "id": "9934fc72",
   "metadata": {},
   "source": [
    "Pada step ini kalian bebas membuat/merancang susunan Neural Network. Semakin bagus hasil akurasi yang di dapat maka nilai UAS yang didapatkan akan semakin tinggi"
   ]
  },
  {
   "cell_type": "markdown",
   "id": "99a28fee",
   "metadata": {},
   "source": [
    "### Build model Neural Network"
   ]
  },
  {
   "cell_type": "code",
   "execution_count": 8,
   "id": "b88b7a6f",
   "metadata": {
    "tags": []
   },
   "outputs": [
    {
     "name": "stderr",
     "output_type": "stream",
     "text": [
      "C:\\Users\\bayua\\miniconda3\\lib\\site-packages\\keras\\src\\layers\\reshaping\\flatten.py:37: UserWarning: Do not pass an `input_shape`/`input_dim` argument to a layer. When using Sequential models, prefer using an `Input(shape)` object as the first layer in the model instead.\n",
      "  super().__init__(**kwargs)\n"
     ]
    }
   ],
   "source": [
    "# code untuk membuat susunan neural network (DILARANG MENGGUNAKAN CNN. HANYA BOLEH MENGGUNAKAN NN biasa)\n",
    "# Untuk optimasi bisa menggunakan layer pendukung seperti dropout. Bisa juga menggunakan beberapa activation function (RelU)\n",
    "\n",
    "# Build the neural network model\n",
    "model = Sequential()\n",
    "model.add(Flatten(input_shape=(28, 28, 1)))\n",
    "model.add(Dense(128, activation='relu'))\n",
    "model.add(Dropout(0.2))\n",
    "model.add(Dense(64, activation='elu'))\n",
    "model.add(Dropout(0.2))\n",
    "model.add(Dense(32, activation='elu'))\n",
    "model.add(Dropout(0.2))\n",
    "model.add(Dense(10, activation='softmax'))\n",
    "\n",
    "# Kompilasi model\n",
    "model.compile(optimizer=RMSprop(learning_rate=0.001),\n",
    "              loss='categorical_crossentropy',\n",
    "              metrics=['accuracy'])"
   ]
  },
  {
   "cell_type": "markdown",
   "id": "a580c33b",
   "metadata": {},
   "source": [
    "### Train the model"
   ]
  },
  {
   "cell_type": "code",
   "execution_count": 9,
   "id": "2af3f296",
   "metadata": {},
   "outputs": [
    {
     "name": "stdout",
     "output_type": "stream",
     "text": [
      "Epoch 1/20\n",
      "\u001b[1m1875/1875\u001b[0m \u001b[32m━━━━━━━━━━━━━━━━━━━━\u001b[0m\u001b[37m\u001b[0m \u001b[1m3s\u001b[0m 1ms/step - accuracy: 0.8423 - loss: 0.5303 - val_accuracy: 0.9542 - val_loss: 0.1525\n",
      "Epoch 2/20\n",
      "\u001b[1m1875/1875\u001b[0m \u001b[32m━━━━━━━━━━━━━━━━━━━━\u001b[0m\u001b[37m\u001b[0m \u001b[1m2s\u001b[0m 1ms/step - accuracy: 0.9507 - loss: 0.1783 - val_accuracy: 0.9667 - val_loss: 0.1166\n",
      "Epoch 3/20\n",
      "\u001b[1m1875/1875\u001b[0m \u001b[32m━━━━━━━━━━━━━━━━━━━━\u001b[0m\u001b[37m\u001b[0m \u001b[1m2s\u001b[0m 1ms/step - accuracy: 0.9588 - loss: 0.1481 - val_accuracy: 0.9729 - val_loss: 0.0976\n",
      "Epoch 4/20\n",
      "\u001b[1m1875/1875\u001b[0m \u001b[32m━━━━━━━━━━━━━━━━━━━━\u001b[0m\u001b[37m\u001b[0m \u001b[1m2s\u001b[0m 1ms/step - accuracy: 0.9645 - loss: 0.1286 - val_accuracy: 0.9756 - val_loss: 0.0908\n",
      "Epoch 5/20\n",
      "\u001b[1m1875/1875\u001b[0m \u001b[32m━━━━━━━━━━━━━━━━━━━━\u001b[0m\u001b[37m\u001b[0m \u001b[1m2s\u001b[0m 1ms/step - accuracy: 0.9681 - loss: 0.1171 - val_accuracy: 0.9743 - val_loss: 0.0911\n",
      "Epoch 6/20\n",
      "\u001b[1m1875/1875\u001b[0m \u001b[32m━━━━━━━━━━━━━━━━━━━━\u001b[0m\u001b[37m\u001b[0m \u001b[1m2s\u001b[0m 1ms/step - accuracy: 0.9700 - loss: 0.1136 - val_accuracy: 0.9767 - val_loss: 0.0916\n",
      "Epoch 7/20\n",
      "\u001b[1m1875/1875\u001b[0m \u001b[32m━━━━━━━━━━━━━━━━━━━━\u001b[0m\u001b[37m\u001b[0m \u001b[1m2s\u001b[0m 1ms/step - accuracy: 0.9735 - loss: 0.0978 - val_accuracy: 0.9781 - val_loss: 0.0859\n",
      "Epoch 8/20\n",
      "\u001b[1m1875/1875\u001b[0m \u001b[32m━━━━━━━━━━━━━━━━━━━━\u001b[0m\u001b[37m\u001b[0m \u001b[1m2s\u001b[0m 1ms/step - accuracy: 0.9743 - loss: 0.0974 - val_accuracy: 0.9798 - val_loss: 0.0868\n",
      "Epoch 9/20\n",
      "\u001b[1m1875/1875\u001b[0m \u001b[32m━━━━━━━━━━━━━━━━━━━━\u001b[0m\u001b[37m\u001b[0m \u001b[1m2s\u001b[0m 1ms/step - accuracy: 0.9761 - loss: 0.0917 - val_accuracy: 0.9770 - val_loss: 0.0873\n",
      "Epoch 10/20\n",
      "\u001b[1m1875/1875\u001b[0m \u001b[32m━━━━━━━━━━━━━━━━━━━━\u001b[0m\u001b[37m\u001b[0m \u001b[1m2s\u001b[0m 1ms/step - accuracy: 0.9763 - loss: 0.0895 - val_accuracy: 0.9785 - val_loss: 0.0890\n",
      "Epoch 11/20\n",
      "\u001b[1m1875/1875\u001b[0m \u001b[32m━━━━━━━━━━━━━━━━━━━━\u001b[0m\u001b[37m\u001b[0m \u001b[1m2s\u001b[0m 1ms/step - accuracy: 0.9779 - loss: 0.0885 - val_accuracy: 0.9788 - val_loss: 0.0886\n",
      "Epoch 12/20\n",
      "\u001b[1m1875/1875\u001b[0m \u001b[32m━━━━━━━━━━━━━━━━━━━━\u001b[0m\u001b[37m\u001b[0m \u001b[1m2s\u001b[0m 1ms/step - accuracy: 0.9784 - loss: 0.0835 - val_accuracy: 0.9797 - val_loss: 0.0946\n",
      "Epoch 13/20\n",
      "\u001b[1m1875/1875\u001b[0m \u001b[32m━━━━━━━━━━━━━━━━━━━━\u001b[0m\u001b[37m\u001b[0m \u001b[1m2s\u001b[0m 1ms/step - accuracy: 0.9790 - loss: 0.0827 - val_accuracy: 0.9813 - val_loss: 0.0801\n",
      "Epoch 14/20\n",
      "\u001b[1m1875/1875\u001b[0m \u001b[32m━━━━━━━━━━━━━━━━━━━━\u001b[0m\u001b[37m\u001b[0m \u001b[1m2s\u001b[0m 1ms/step - accuracy: 0.9801 - loss: 0.0749 - val_accuracy: 0.9800 - val_loss: 0.0876\n",
      "Epoch 15/20\n",
      "\u001b[1m1875/1875\u001b[0m \u001b[32m━━━━━━━━━━━━━━━━━━━━\u001b[0m\u001b[37m\u001b[0m \u001b[1m2s\u001b[0m 1ms/step - accuracy: 0.9796 - loss: 0.0780 - val_accuracy: 0.9793 - val_loss: 0.0913\n",
      "Epoch 16/20\n",
      "\u001b[1m1848/1875\u001b[0m \u001b[32m━━━━━━━━━━━━━━━━━━━\u001b[0m\u001b[37m━\u001b[0m \u001b[1m0s\u001b[0m 1ms/step - accuracy: 0.9822 - loss: 0.0701\n",
      "Reached 98% accuracy so stopping training!\n",
      "\u001b[1m1875/1875\u001b[0m \u001b[32m━━━━━━━━━━━━━━━━━━━━\u001b[0m\u001b[37m\u001b[0m \u001b[1m2s\u001b[0m 1ms/step - accuracy: 0.9822 - loss: 0.0702 - val_accuracy: 0.9799 - val_loss: 0.0959\n"
     ]
    },
    {
     "data": {
      "image/png": "[encoded data removed]",
      "text/plain": [
       "<Figure size 1200x400 with 2 Axes>"
      ]
     },
     "metadata": {},
     "output_type": "display_data"
    }
   ],
   "source": [
    "# code untuk train model\n",
    "# Silahkan tentukan epoch dan learning rate agar hasilnya maksimal\n",
    "\n",
    "\n",
    "# Definisikan callback EarlyStopping untuk menghentikan pelatihan ketika akurasi mencapai lebih dari 98%\n",
    "class EarlyStoppingByAccuracy(tf.keras.callbacks.Callback):\n",
    "    def on_epoch_end(self, epoch, logs=None):\n",
    "        if logs.get('accuracy') >= 0.98:\n",
    "            print(\"\\nReached 98% accuracy so stopping training!\")\n",
    "            self.model.stop_training = True\n",
    "\n",
    "early_stopping = EarlyStoppingByAccuracy()\n",
    "\n",
    "tensorboard_callback = TensorBoard(log_dir='./logs', histogram_freq=1)\n",
    "\n",
    "# Train model\n",
    "history = model.fit(X_train, y_train,\n",
    "                    epochs=20,\n",
    "                    batch_size=32,\n",
    "                    validation_data=(X_test, y_test), callbacks=[early_stopping, tensorboard_callback])\n",
    "\n",
    "# Plot nilai accuracy pelatihan & validasi\n",
    "plt.figure(figsize=(12, 4))\n",
    "plt.subplot(1, 2, 1)\n",
    "plt.plot(history.history['accuracy'])\n",
    "plt.plot(history.history['val_accuracy'])\n",
    "plt.title('Model accuracy')\n",
    "plt.ylabel('Accuracy')\n",
    "plt.xlabel('Epoch')\n",
    "plt.legend(['Train', 'Validation'], loc='upper left')\n",
    "\n",
    "# Plot nilai loos pelatihan & validasi\n",
    "plt.subplot(1, 2, 2)\n",
    "plt.plot(history.history['loss'])\n",
    "plt.plot(history.history['val_loss'])\n",
    "plt.title('Model loss')\n",
    "plt.ylabel('Loss')\n",
    "plt.xlabel('Epoch')\n",
    "plt.legend(['Train', 'Validation'], loc='upper left')\n",
    "\n",
    "plt.tight_layout()\n",
    "plt.show()"
   ]
  },
  {
   "cell_type": "markdown",
   "id": "5db21abe",
   "metadata": {},
   "source": [
    "===================================================================================================="
   ]
  },
  {
   "cell_type": "markdown",
   "id": "e46513d6",
   "metadata": {},
   "source": [
    "## Pengujian"
   ]
  },
  {
   "cell_type": "markdown",
   "id": "257f5722",
   "metadata": {},
   "source": [
    "Setelah kita membuat model klasifikasi dengan menggunakan algoritma Artificial Neural Network, hal selanjutnya yaitu kita perlu menguji apakah model yang telah kita buat sudah handal dan baik dalam melakukan klasifikasi pada dataset MNIST. Metrics atau satuan pengukuran yang akan kita gunakan adalah Accuracy dan Precision\n",
    "\n",
    "##### Ada nilai tambah jika menggunakan confusion matrix (optional)"
   ]
  },
  {
   "cell_type": "markdown",
   "id": "d8dc99f1",
   "metadata": {},
   "source": [
    "### Hitung nilai akurasi dan presisi"
   ]
  },
  {
   "cell_type": "code",
   "execution_count": 11,
   "id": "4ce6fe19",
   "metadata": {},
   "outputs": [
    {
     "name": "stdout",
     "output_type": "stream",
     "text": [
      "\u001b[1m313/313\u001b[0m \u001b[32m━━━━━━━━━━━━━━━━━━━━\u001b[0m\u001b[37m\u001b[0m \u001b[1m0s\u001b[0m 579us/step\n",
      "Accuracy: 97.99%\n",
      "Precision: 98.00%\n"
     ]
    }
   ],
   "source": [
    "from sklearn.metrics import precision_score, accuracy_score\n",
    "\n",
    "# Prediksi probabilitas kelas untuk data uji\n",
    "y_pred_prob = model.predict(X_test)\n",
    "\n",
    "# Ambil kelas dengan probabilitas tertinggi sebagai prediksi\n",
    "y_pred = np.argmax(y_pred_prob, axis=1)\n",
    "\n",
    "# Menghitung akurasi\n",
    "accuracy = accuracy_score(np.argmax(y_test, axis=1), y_pred)\n",
    "print(f'Accuracy: {accuracy * 100:.2f}%')\n",
    "\n",
    "# Menghitung presisi\n",
    "precision = precision_score(np.argmax(y_test, axis=1), y_pred, average='weighted')\n",
    "print(f'Precision: {precision * 100:.2f}%')"
   ]
  },
  {
   "cell_type": "code",
   "execution_count": 47,
   "id": "52f0cb76",
   "metadata": {},
   "outputs": [
    {
     "data": {
      "image/png": "[encoded data removed]",
      "text/plain": [
       "<Figure size 800x600 with 2 Axes>"
      ]
     },
     "metadata": {},
     "output_type": "display_data"
    }
   ],
   "source": [
    "# Code untuk visualisasi gambar dan hasil klasifikasinya\n",
    "\n",
    "# Mendapatkan confusion matrix\n",
    "cm = confusion_matrix(np.argmax(y_test, axis=1), y_pred)\n",
    "\n",
    "# Visualisasi confusion matrix menggunakan heatmap\n",
    "plt.figure(figsize=(8, 6))\n",
    "sns.heatmap(cm, annot=True, cmap='Blues', fmt='d', xticklabels=np.arange(10), yticklabels=np.arange(10))\n",
    "plt.title('Confusion Matrix')\n",
    "plt.xlabel('Predicted')\n",
    "plt.ylabel('True')\n",
    "plt.show()"
   ]
  },
  {
   "cell_type": "markdown",
   "id": "981229a3",
   "metadata": {},
   "source": [
    "### Visualisasi Hasil Klasifikasi"
   ]
  },
  {
   "cell_type": "code",
   "execution_count": 57,
   "id": "e07d68bb-6f68-4fbd-8db9-98523b5af525",
   "metadata": {
    "tags": []
   },
   "outputs": [
    {
     "name": "stdout",
     "output_type": "stream",
     "text": [
      "\u001b[1m1/1\u001b[0m \u001b[32m━━━━━━━━━━━━━━━━━━━━\u001b[0m\u001b[37m\u001b[0m \u001b[1m0s\u001b[0m 14ms/step\n"
     ]
    },
    {
     "data": {
      "image/png": "[encoded data removed]",
      "text/plain": [
       "<Figure size 400x400 with 1 Axes>"
      ]
     },
     "metadata": {},
     "output_type": "display_data"
    },
    {
     "name": "stdout",
     "output_type": "stream",
     "text": [
      "Kelas yang diprediksi untuk Lima.png: 5\n"
     ]
    }
   ],
   "source": [
    "import os\n",
    "from PIL import Image\n",
    "import matplotlib.pyplot as plt\n",
    "\n",
    "# Fungsi untuk memproses satu file gambar\n",
    "def preprocess_image(image_path):\n",
    "    img = Image.open(image_path)\n",
    "    img = img.convert('L')  # Mengonversi gambar ke skala abu-abu\n",
    "    img = img.resize((28, 28))  # Mengubah ukuran gambar untuk sesuaikan dengan ukuran dataset MNIST\n",
    "    img = np.array(img)\n",
    "    img = img.reshape((1, 28, 28, 1))  # Mengubah bentuk gambar untuk sesuaikan dengan bentuk input model\n",
    "    img = img.astype('float32') / 255.0  # Normalisasi nilai piksel\n",
    "    return img\n",
    "\n",
    "# Tentukan nama file gambar dan pathnya\n",
    "image_filename = 'Lima.png'\n",
    "image_path = os.path.join(os.getcwd(), image_filename)\n",
    "\n",
    "# Preproses gambar\n",
    "image_to_predict = preprocess_image(image_path)\n",
    "\n",
    "# Prediksi kelas untuk gambar\n",
    "predicted_class = np.argmax(model.predict(image_to_predict), axis=-1)[0]\n",
    "\n",
    "# Tampilkan gambar\n",
    "plt.figure(figsize=(4, 4))\n",
    "img = Image.open(image_path)\n",
    "plt.imshow(img, cmap='gray')\n",
    "plt.title(f'Predicted Class: {predicted_class}')\n",
    "plt.axis('off')\n",
    "plt.show()\n",
    "\n",
    "print(f\"Kelas yang diprediksi untuk {image_filename}: {predicted_class}\")\n"
   ]
  },
  {
   "cell_type": "code",
   "execution_count": 18,
   "id": "b4a16025-cd87-45a0-bc40-a1a2eb2a144d",
   "metadata": {
    "tags": []
   },
   "outputs": [
    {
     "name": "stdout",
     "output_type": "stream",
     "text": [
      "Collecting scikit-image\n",
      "  Downloading scikit_image-0.24.0-cp310-cp310-win_amd64.whl (12.9 MB)\n",
      "     ---------------------------------------- 0.0/12.9 MB ? eta -:--:--\n",
      "     ---------------------------------------- 0.1/12.9 MB 1.6 MB/s eta 0:00:09\n",
      "      --------------------------------------- 0.2/12.9 MB 2.7 MB/s eta 0:00:05\n",
      "     - -------------------------------------- 0.5/12.9 MB 4.2 MB/s eta 0:00:03\n",
      "     --- ------------------------------------ 1.2/12.9 MB 7.0 MB/s eta 0:00:02\n",
      "     ------- -------------------------------- 2.3/12.9 MB 10.2 MB/s eta 0:00:02\n",
      "     ---------- ----------------------------- 3.3/12.9 MB 12.4 MB/s eta 0:00:01\n",
      "     ------------- -------------------------- 4.5/12.9 MB 14.2 MB/s eta 0:00:01\n",
      "     ----------------- ---------------------- 5.7/12.9 MB 15.8 MB/s eta 0:00:01\n",
      "     --------------------- ------------------ 6.9/12.9 MB 16.9 MB/s eta 0:00:01\n",
      "     ------------------------- -------------- 8.1/12.9 MB 17.8 MB/s eta 0:00:01\n",
      "     ---------------------------- ----------- 9.2/12.9 MB 18.5 MB/s eta 0:00:01\n",
      "     ------------------------------- ------- 10.4/12.9 MB 21.9 MB/s eta 0:00:01\n",
      "     ---------------------------------- ---- 11.5/12.9 MB 24.2 MB/s eta 0:00:01\n",
      "     ----------------------------------- --- 11.7/12.9 MB 22.6 MB/s eta 0:00:01\n",
      "     ------------------------------------ -- 11.9/12.9 MB 23.4 MB/s eta 0:00:01\n",
      "     --------------------------------------  12.6/12.9 MB 20.5 MB/s eta 0:00:01\n",
      "     --------------------------------------  12.7/12.9 MB 18.7 MB/s eta 0:00:01\n",
      "     --------------------------------------  12.8/12.9 MB 17.7 MB/s eta 0:00:01\n",
      "     --------------------------------------- 12.9/12.9 MB 16.4 MB/s eta 0:00:00\n",
      "Requirement already satisfied: pillow>=9.1 in c:\\users\\bayua\\miniconda3\\lib\\site-packages (from scikit-image) (9.4.0)\n",
      "Requirement already satisfied: packaging>=21 in c:\\users\\bayua\\miniconda3\\lib\\site-packages (from scikit-image) (23.0)\n",
      "Requirement already satisfied: numpy>=1.23 in c:\\users\\bayua\\miniconda3\\lib\\site-packages (from scikit-image) (1.24.3)\n",
      "Collecting tifffile>=2022.8.12\n",
      "  Downloading tifffile-2024.7.2-py3-none-any.whl (225 kB)\n",
      "     ---------------------------------------- 0.0/225.9 kB ? eta -:--:--\n",
      "     ---------------------------------------- 225.9/225.9 kB ? eta 0:00:00\n",
      "Collecting lazy-loader>=0.4\n",
      "  Downloading lazy_loader-0.4-py3-none-any.whl (12 kB)\n",
      "Requirement already satisfied: scipy>=1.9 in c:\\users\\bayua\\miniconda3\\lib\\site-packages (from scikit-image) (1.12.0)\n",
      "Collecting imageio>=2.33\n",
      "  Downloading imageio-2.34.2-py3-none-any.whl (313 kB)\n",
      "     ---------------------------------------- 0.0/313.5 kB ? eta -:--:--\n",
      "     ------------------------------------- 313.5/313.5 kB 20.2 MB/s eta 0:00:00\n",
      "Requirement already satisfied: networkx>=2.8 in c:\\users\\bayua\\miniconda3\\lib\\site-packages (from scikit-image) (2.8.4)\n",
      "Installing collected packages: tifffile, lazy-loader, imageio, scikit-image\n",
      "Successfully installed imageio-2.34.2 lazy-loader-0.4 scikit-image-0.24.0 tifffile-2024.7.2\n",
      "Note: you may need to restart the kernel to use updated packages.\n"
     ]
    }
   ],
   "source": [
    "pip install scikit-image"
   ]
  },
  {
   "cell_type": "code",
   "execution_count": 29,
   "id": "bc345a8f-2c23-45cf-aaa8-3305fc3f1361",
   "metadata": {
    "tags": []
   },
   "outputs": [
    {
     "name": "stdout",
     "output_type": "stream",
     "text": [
      "Collecting opencv-python\n",
      "  Downloading opencv_python-4.10.0.84-cp37-abi3-win_amd64.whl (38.8 MB)\n",
      "     ---------------------------------------- 0.0/38.8 MB ? eta -:--:--\n",
      "     ---------------------------------------- 0.1/38.8 MB 1.7 MB/s eta 0:00:23\n",
      "     ---------------------------------------- 0.2/38.8 MB 3.0 MB/s eta 0:00:13\n",
      "      --------------------------------------- 0.6/38.8 MB 4.0 MB/s eta 0:00:10\n",
      "     - -------------------------------------- 1.2/38.8 MB 6.3 MB/s eta 0:00:07\n",
      "     -- ------------------------------------- 2.0/38.8 MB 8.4 MB/s eta 0:00:05\n",
      "     -- ------------------------------------- 2.9/38.8 MB 10.1 MB/s eta 0:00:04\n",
      "     --- ------------------------------------ 3.7/38.8 MB 11.2 MB/s eta 0:00:04\n",
      "     ---- ----------------------------------- 4.6/38.8 MB 12.8 MB/s eta 0:00:03\n",
      "     ----- ---------------------------------- 5.6/38.8 MB 13.3 MB/s eta 0:00:03\n",
      "     ------ --------------------------------- 6.5/38.8 MB 13.8 MB/s eta 0:00:03\n",
      "     ------- -------------------------------- 7.3/38.8 MB 14.2 MB/s eta 0:00:03\n",
      "     -------- ------------------------------- 8.2/38.8 MB 15.0 MB/s eta 0:00:03\n",
      "     --------- ------------------------------ 9.0/38.8 MB 14.7 MB/s eta 0:00:03\n",
      "     --------- ------------------------------ 9.7/38.8 MB 14.7 MB/s eta 0:00:02\n",
      "     ---------- ---------------------------- 10.6/38.8 MB 17.2 MB/s eta 0:00:02\n",
      "     ----------- --------------------------- 11.4/38.8 MB 18.7 MB/s eta 0:00:02\n",
      "     ------------ -------------------------- 12.3/38.8 MB 18.2 MB/s eta 0:00:02\n",
      "     ------------- ------------------------- 13.0/38.8 MB 18.2 MB/s eta 0:00:02\n",
      "     ------------- ------------------------- 13.8/38.8 MB 17.7 MB/s eta 0:00:02\n",
      "     -------------- ------------------------ 14.5/38.8 MB 17.7 MB/s eta 0:00:02\n",
      "     -------------- ------------------------ 14.8/38.8 MB 17.2 MB/s eta 0:00:02\n",
      "     -------------- ------------------------ 14.8/38.8 MB 17.2 MB/s eta 0:00:02\n",
      "     --------------- ----------------------- 15.3/38.8 MB 14.9 MB/s eta 0:00:02\n",
      "     --------------- ----------------------- 15.6/38.8 MB 14.6 MB/s eta 0:00:02\n",
      "     --------------- ----------------------- 15.8/38.8 MB 13.9 MB/s eta 0:00:02\n",
      "     ---------------- ---------------------- 16.2/38.8 MB 13.4 MB/s eta 0:00:02\n",
      "     ---------------- ---------------------- 16.5/38.8 MB 12.9 MB/s eta 0:00:02\n",
      "     ---------------- ---------------------- 16.8/38.8 MB 12.4 MB/s eta 0:00:02\n",
      "     ----------------- --------------------- 17.0/38.8 MB 11.7 MB/s eta 0:00:02\n",
      "     ----------------- --------------------- 17.5/38.8 MB 11.7 MB/s eta 0:00:02\n",
      "     ----------------- --------------------- 17.5/38.8 MB 11.1 MB/s eta 0:00:02\n",
      "     ----------------- --------------------- 17.9/38.8 MB 10.6 MB/s eta 0:00:02\n",
      "     ------------------ -------------------- 18.0/38.8 MB 10.2 MB/s eta 0:00:03\n",
      "     ------------------ -------------------- 18.3/38.8 MB 10.1 MB/s eta 0:00:03\n",
      "     ------------------ -------------------- 18.3/38.8 MB 10.1 MB/s eta 0:00:03\n",
      "     ------------------- -------------------- 19.0/38.8 MB 9.6 MB/s eta 0:00:03\n",
      "     ------------------- -------------------- 19.3/38.8 MB 9.5 MB/s eta 0:00:03\n",
      "     -------------------- ------------------- 19.8/38.8 MB 9.1 MB/s eta 0:00:03\n",
      "     -------------------- ------------------- 19.9/38.8 MB 8.7 MB/s eta 0:00:03\n",
      "     -------------------- ------------------- 20.0/38.8 MB 8.7 MB/s eta 0:00:03\n",
      "     --------------------- ------------------ 20.4/38.8 MB 8.4 MB/s eta 0:00:03\n",
      "     --------------------- ------------------ 20.8/38.8 MB 8.2 MB/s eta 0:00:03\n",
      "     --------------------- ------------------ 21.2/38.8 MB 8.0 MB/s eta 0:00:03\n",
      "     --------------------- ------------------ 21.2/38.8 MB 7.7 MB/s eta 0:00:03\n",
      "     ---------------------- ----------------- 21.8/38.8 MB 7.6 MB/s eta 0:00:03\n",
      "     ---------------------- ----------------- 22.1/38.8 MB 7.4 MB/s eta 0:00:03\n",
      "     ----------------------- ---------------- 22.4/38.8 MB 7.4 MB/s eta 0:00:03\n",
      "     ----------------------- ---------------- 22.6/38.8 MB 7.1 MB/s eta 0:00:03\n",
      "     ----------------------- ---------------- 23.0/38.8 MB 7.0 MB/s eta 0:00:03\n",
      "     ----------------------- ---------------- 23.2/38.8 MB 6.8 MB/s eta 0:00:03\n",
      "     ------------------------ --------------- 23.4/38.8 MB 6.7 MB/s eta 0:00:03\n",
      "     ------------------------ --------------- 23.7/38.8 MB 6.5 MB/s eta 0:00:03\n",
      "     ------------------------ --------------- 24.0/38.8 MB 6.4 MB/s eta 0:00:03\n",
      "     ------------------------ --------------- 24.2/38.8 MB 6.3 MB/s eta 0:00:03\n",
      "     ------------------------- -------------- 24.5/38.8 MB 6.2 MB/s eta 0:00:03\n",
      "     ------------------------- -------------- 24.8/38.8 MB 6.1 MB/s eta 0:00:03\n",
      "     ------------------------- -------------- 25.0/38.8 MB 6.3 MB/s eta 0:00:03\n",
      "     -------------------------- ------------- 25.3/38.8 MB 6.2 MB/s eta 0:00:03\n",
      "     -------------------------- ------------- 25.5/38.8 MB 6.1 MB/s eta 0:00:03\n",
      "     -------------------------- ------------- 25.8/38.8 MB 6.1 MB/s eta 0:00:03\n",
      "     -------------------------- ------------- 26.1/38.8 MB 6.1 MB/s eta 0:00:03\n",
      "     --------------------------- ------------ 26.4/38.8 MB 6.1 MB/s eta 0:00:03\n",
      "     --------------------------- ------------ 26.6/38.8 MB 6.1 MB/s eta 0:00:03\n",
      "     --------------------------- ------------ 26.9/38.8 MB 6.0 MB/s eta 0:00:02\n",
      "     --------------------------- ------------ 27.2/38.8 MB 6.1 MB/s eta 0:00:02\n",
      "     ---------------------------- ----------- 27.4/38.8 MB 6.0 MB/s eta 0:00:02\n",
      "     ---------------------------- ----------- 27.6/38.8 MB 5.8 MB/s eta 0:00:02\n",
      "     ---------------------------- ----------- 27.9/38.8 MB 6.1 MB/s eta 0:00:02\n",
      "     ---------------------------- ----------- 28.2/38.8 MB 6.1 MB/s eta 0:00:02\n",
      "     ----------------------------- ---------- 28.4/38.8 MB 5.9 MB/s eta 0:00:02\n",
      "     ----------------------------- ---------- 28.7/38.8 MB 6.2 MB/s eta 0:00:02\n",
      "     ----------------------------- ---------- 29.0/38.8 MB 6.0 MB/s eta 0:00:02\n",
      "     ------------------------------ --------- 29.3/38.8 MB 6.0 MB/s eta 0:00:02\n",
      "     ------------------------------ --------- 29.6/38.8 MB 5.9 MB/s eta 0:00:02\n",
      "     ------------------------------ --------- 29.9/38.8 MB 5.8 MB/s eta 0:00:02\n",
      "     ------------------------------- -------- 30.2/38.8 MB 6.0 MB/s eta 0:00:02\n",
      "     ------------------------------- -------- 30.5/38.8 MB 6.0 MB/s eta 0:00:02\n",
      "     ------------------------------- -------- 30.8/38.8 MB 6.0 MB/s eta 0:00:02\n",
      "     ------------------------------- -------- 31.0/38.8 MB 5.9 MB/s eta 0:00:02\n",
      "     -------------------------------- ------- 31.3/38.8 MB 5.9 MB/s eta 0:00:02\n",
      "     -------------------------------- ------- 31.6/38.8 MB 6.0 MB/s eta 0:00:02\n",
      "     -------------------------------- ------- 31.9/38.8 MB 5.9 MB/s eta 0:00:02\n",
      "     --------------------------------- ------ 32.2/38.8 MB 5.8 MB/s eta 0:00:02\n",
      "     --------------------------------- ------ 32.6/38.8 MB 5.8 MB/s eta 0:00:02\n",
      "     --------------------------------- ------ 32.8/38.8 MB 6.0 MB/s eta 0:00:02\n",
      "     ---------------------------------- ----- 33.2/38.8 MB 5.9 MB/s eta 0:00:01\n",
      "     ---------------------------------- ----- 33.5/38.8 MB 6.0 MB/s eta 0:00:01\n",
      "     ---------------------------------- ----- 33.8/38.8 MB 6.0 MB/s eta 0:00:01\n",
      "     ----------------------------------- ---- 34.1/38.8 MB 6.0 MB/s eta 0:00:01\n",
      "     ----------------------------------- ---- 34.4/38.8 MB 6.0 MB/s eta 0:00:01\n",
      "     ----------------------------------- ---- 34.7/38.8 MB 6.1 MB/s eta 0:00:01\n",
      "     ------------------------------------ --- 35.0/38.8 MB 6.1 MB/s eta 0:00:01\n",
      "     ------------------------------------ --- 35.3/38.8 MB 6.1 MB/s eta 0:00:01\n",
      "     ------------------------------------ --- 35.6/38.8 MB 6.1 MB/s eta 0:00:01\n",
      "     ------------------------------------ --- 35.9/38.8 MB 6.2 MB/s eta 0:00:01\n",
      "     ------------------------------------- -- 36.2/38.8 MB 6.2 MB/s eta 0:00:01\n",
      "     ------------------------------------- -- 36.5/38.8 MB 6.2 MB/s eta 0:00:01\n",
      "     ------------------------------------- -- 36.8/38.8 MB 6.2 MB/s eta 0:00:01\n",
      "     -------------------------------------- - 37.1/38.8 MB 6.2 MB/s eta 0:00:01\n",
      "     -------------------------------------- - 37.3/38.8 MB 6.2 MB/s eta 0:00:01\n",
      "     -------------------------------------- - 37.7/38.8 MB 6.3 MB/s eta 0:00:01\n",
      "     ---------------------------------------  38.0/38.8 MB 6.4 MB/s eta 0:00:01\n",
      "     ---------------------------------------  38.3/38.8 MB 6.4 MB/s eta 0:00:01\n",
      "     ---------------------------------------  38.6/38.8 MB 6.4 MB/s eta 0:00:01\n",
      "     ---------------------------------------  38.8/38.8 MB 6.4 MB/s eta 0:00:01\n",
      "     ---------------------------------------  38.8/38.8 MB 6.4 MB/s eta 0:00:01\n",
      "     ---------------------------------------- 38.8/38.8 MB 6.1 MB/s eta 0:00:00\n",
      "Requirement already satisfied: numpy>=1.17.0 in c:\\users\\bayua\\miniconda3\\lib\\site-packages (from opencv-python) (1.24.3)\n",
      "Installing collected packages: opencv-python\n",
      "Successfully installed opencv-python-4.10.0.84\n",
      "Note: you may need to restart the kernel to use updated packages.\n"
     ]
    }
   ],
   "source": [
    "pip install opencv-python"
   ]
  },
  {
   "cell_type": "code",
   "execution_count": 24,
   "id": "0f2c020c-4034-48e0-92ab-068e1083a9a7",
   "metadata": {
    "tags": []
   },
   "outputs": [
    {
     "name": "stdout",
     "output_type": "stream",
     "text": [
      "Collecting google-auth\n",
      "  Downloading google_auth-2.31.0-py2.py3-none-any.whl (194 kB)\n",
      "     ---------------------------------------- 0.0/194.6 kB ? eta -:--:--\n",
      "     ------- ----------------------------- 41.0/194.6 kB 991.0 kB/s eta 0:00:01\n",
      "     -------------------------------------- 194.6/194.6 kB 2.4 MB/s eta 0:00:00\n",
      "Collecting google-auth-oauthlib\n",
      "  Downloading google_auth_oauthlib-1.2.0-py2.py3-none-any.whl (24 kB)\n",
      "Collecting google-auth-httplib2\n",
      "  Downloading google_auth_httplib2-0.2.0-py2.py3-none-any.whl (9.3 kB)\n",
      "Collecting pyasn1-modules>=0.2.1\n",
      "  Downloading pyasn1_modules-0.4.0-py3-none-any.whl (181 kB)\n",
      "     ---------------------------------------- 0.0/181.2 kB ? eta -:--:--\n",
      "     ------------------------------------- 181.2/181.2 kB 10.7 MB/s eta 0:00:00\n",
      "Collecting cachetools<6.0,>=2.0.0\n",
      "  Downloading cachetools-5.3.3-py3-none-any.whl (9.3 kB)\n",
      "Collecting rsa<5,>=3.1.4\n",
      "  Using cached rsa-4.9-py3-none-any.whl (34 kB)\n",
      "Collecting requests-oauthlib>=0.7.0\n",
      "  Downloading requests_oauthlib-2.0.0-py2.py3-none-any.whl (24 kB)\n",
      "Collecting httplib2>=0.19.0\n",
      "  Downloading httplib2-0.22.0-py3-none-any.whl (96 kB)\n",
      "     ---------------------------------------- 0.0/96.9 kB ? eta -:--:--\n",
      "     ---------------------------------------- 96.9/96.9 kB ? eta 0:00:00\n",
      "Requirement already satisfied: pyparsing!=3.0.0,!=3.0.1,!=3.0.2,!=3.0.3,<4,>=2.4.2 in c:\\users\\bayua\\miniconda3\\lib\\site-packages (from httplib2>=0.19.0->google-auth-httplib2) (3.0.9)\n",
      "Collecting pyasn1<0.7.0,>=0.4.6\n",
      "  Downloading pyasn1-0.6.0-py2.py3-none-any.whl (85 kB)\n",
      "     ---------------------------------------- 0.0/85.3 kB ? eta -:--:--\n",
      "     ---------------------------------------- 85.3/85.3 kB 4.7 MB/s eta 0:00:00\n",
      "Requirement already satisfied: requests>=2.0.0 in c:\\users\\bayua\\miniconda3\\lib\\site-packages (from requests-oauthlib>=0.7.0->google-auth-oauthlib) (2.31.0)\n",
      "Collecting oauthlib>=3.0.0\n",
      "  Using cached oauthlib-3.2.2-py3-none-any.whl (151 kB)\n",
      "Requirement already satisfied: charset-normalizer<4,>=2 in c:\\users\\bayua\\miniconda3\\lib\\site-packages (from requests>=2.0.0->requests-oauthlib>=0.7.0->google-auth-oauthlib) (2.0.4)\n",
      "Requirement already satisfied: idna<4,>=2.5 in c:\\users\\bayua\\miniconda3\\lib\\site-packages (from requests>=2.0.0->requests-oauthlib>=0.7.0->google-auth-oauthlib) (3.4)\n",
      "Requirement already satisfied: certifi>=2017.4.17 in c:\\users\\bayua\\miniconda3\\lib\\site-packages (from requests>=2.0.0->requests-oauthlib>=0.7.0->google-auth-oauthlib) (2023.7.22)\n",
      "Requirement already satisfied: urllib3<3,>=1.21.1 in c:\\users\\bayua\\miniconda3\\lib\\site-packages (from requests>=2.0.0->requests-oauthlib>=0.7.0->google-auth-oauthlib) (1.26.15)\n",
      "Installing collected packages: pyasn1, oauthlib, httplib2, cachetools, rsa, requests-oauthlib, pyasn1-modules, google-auth, google-auth-oauthlib, google-auth-httplib2\n",
      "Successfully installed cachetools-5.3.3 google-auth-2.31.0 google-auth-httplib2-0.2.0 google-auth-oauthlib-1.2.0 httplib2-0.22.0 oauthlib-3.2.2 pyasn1-0.6.0 pyasn1-modules-0.4.0 requests-oauthlib-2.0.0 rsa-4.9\n",
      "Note: you may need to restart the kernel to use updated packages.\n"
     ]
    }
   ],
   "source": [
    "pip install google-auth google-auth-oauthlib google-auth-httplib2"
   ]
  },
  {
   "cell_type": "markdown",
   "id": "9f9d4eb0",
   "metadata": {},
   "source": [
    "===================================================================================================="
   ]
  },
  {
   "cell_type": "markdown",
   "id": "1e3fa25b",
   "metadata": {},
   "source": [
    "Silahkan dilengkapi kode di atas. Pastikan tidak ada code error. Kemudian buat sebuah laporan yang menjelaskan\n",
    "step by step dari notebook ini dan juga strategi kalian dalam menyusun Neural Network agar mendapatkan nilai yang maksimal. Tidak lupa juga jelaskan susunan neural network yang telah kalian buat. Jangan lupa cantumkan Nama, NIM, dan Kelas. Deadline pengerjaan sampai 07 Juli 2024 Pukul 12.00 WIB\n",
    "Note: Susunan Neural Network yang sama persis akan dikenakan pengurangan nilai keduanya sebesar -50\n",
    "\n",
    "Link pengumpulan : https://forms.gle/hU5jaGYnfDeTd5qu5"
   ]
  },
  {
   "cell_type": "code",
   "execution_count": null,
   "id": "4bcc0dc6-8f36-4295-8f3e-c32ae6e8b5d3",
   "metadata": {},
   "outputs": [],
   "source": []
  }
 ],
 "metadata": {
  "kernelspec": {
   "display_name": "Python 3 (ipykernel)",
   "language": "python",
   "name": "python3"
  },
  "language_info": {
   "codemirror_mode": {
    "name": "ipython",
    "version": 3
   },
   "file_extension": ".py",
   "mimetype": "text/x-python",
   "name": "python",
   "nbconvert_exporter": "python",
   "pygments_lexer": "ipython3",
   "version": "3.10.10"
  }
 },
 "nbformat": 4,
 "nbformat_minor": 5
}
